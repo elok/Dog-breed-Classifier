{
 "cells": [
  {
   "cell_type": "markdown",
   "metadata": {},
   "source": [
    "# Dog-breed Classifier\n",
    "---"
   ]
  },
  {
   "cell_type": "markdown",
   "metadata": {},
   "source": [
    "## Contents"
   ]
  },
  {
   "cell_type": "markdown",
   "metadata": {},
   "source": [
    "* [Intro](#intro)\n",
    "* [Step 0](#step0): Import Datasets"
   ]
  },
  {
   "cell_type": "markdown",
   "metadata": {},
   "source": [
    "---"
   ]
  },
  {
   "cell_type": "markdown",
   "metadata": {},
   "source": [
    "<a id='intro'></a>\n",
    "## Intro"
   ]
  },
  {
   "cell_type": "markdown",
   "metadata": {},
   "source": [
    "시작에 앞서, 이 노트북은 Udacity의 [Deep Learning Nanodegree](https://www.udacity.com/course/deep-learning-nanodegree--nd101)에서 공부한 내용임을 알려드립니다.\n",
    "\n",
    "이 프로젝트의 목표는 다음과 같습니다:\n",
    "* Convolutional Neural Network를 이용해 나만의 모델을 만들어 이미지를 입력받아 강아지의 품종 예측합니다.\n",
    "* Transfer Learning을 이용한 강아지의 품종을 예측합니다.\n",
    "* 나만의 알고리즘을 만들어 사람의 얼굴을 감지했을때 가장 닮은 품종들을 알려줍니다.\n",
    "\n",
    "아래의 이미지는 프로젝트의 예상 결과물입니다:\n",
    "\n",
    "![Sample_Dog_Output](notebook_images/sample_dog_output.png)\n"
   ]
  },
  {
   "cell_type": "markdown",
   "metadata": {},
   "source": [
    "## Step 0: Import Datasets"
   ]
  },
  {
   "cell_type": "markdown",
   "metadata": {},
   "source": [
    "__아래의 사람과 강아지 데이터셋이 반드시 필요합니다. 다운로드해주세요.__\n",
    "\n",
    "* [강아지 데이터셋](https://s3-us-west-1.amazonaws.com/udacity-aind/dog-project/dogImages.zip)을 다운로드하시고 이 프로젝트의 홈 디렉토리에 압축을 풀어주세요.\n",
    "* [사람 데이터셋](https://s3-us-west-1.amazonaws.com/udacity-aind/dog-project/lfw.zip)도 마찬가지로 홈 디렉토리에 압축을 풀어주세요.\n",
    "\n",
    "*참고: 윈도우즈 환경에서 다운로드 하실 경우, [7zip](http://www.7-zip.org/) 또는 [반디집](https://kr.bandisoft.com/bandizip/)을 사용하여 압축을 풀어주세요. 다른 프로그램은 사용해보지 않았습니다.\n",
    "\n",
    "아래의 코드는, 강아지 데이터셋과 사람 데이터셋의 경로를 numpy array로 `human_files`와 `dog_files`라는 이름으로 저장하는 코드입니다."
   ]
  },
  {
   "cell_type": "code",
   "execution_count": 17,
   "metadata": {},
   "outputs": [
    {
     "name": "stdout",
     "output_type": "stream",
     "text": [
      "전체 강아지 이미지 수: 8351\n",
      "전체 사람 이미지 수: 13233\n"
     ]
    }
   ],
   "source": [
    "import numpy as np\n",
    "from glob import glob\n",
    "\n",
    "# 강아지, 사람 데이터셋 파일의 경로들을 가져옵니다.\n",
    "dog_files = np.array(glob('./dog_images/*/*/*'))\n",
    "human_files = np.array(glob('./human_images/*/*'))\n",
    "\n",
    "# 각 데이터셋의 갯수를 출력합니다.\n",
    "print('전체 강아지 이미지 수: %d' % len(dog_files))\n",
    "print('전체 사람 이미지 수: %d' % len(human_files))"
   ]
  }
 ],
 "metadata": {
  "kernelspec": {
   "display_name": "Python [conda env:dlnd]",
   "language": "python",
   "name": "conda-env-dlnd-py"
  },
  "language_info": {
   "codemirror_mode": {
    "name": "ipython",
    "version": 3
   },
   "file_extension": ".py",
   "mimetype": "text/x-python",
   "name": "python",
   "nbconvert_exporter": "python",
   "pygments_lexer": "ipython3",
   "version": "3.5.6"
  }
 },
 "nbformat": 4,
 "nbformat_minor": 2
}
